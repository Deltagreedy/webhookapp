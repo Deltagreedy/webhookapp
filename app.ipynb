{
 "cells": [
  {
   "cell_type": "code",
   "execution_count": 17,
   "id": "bddc03d1-f10e-4fcf-b48f-2eef8ec88290",
   "metadata": {},
   "outputs": [],
   "source": [
    "import json\n",
    "\n",
    "from flask import Flask\n",
    "from flask import request\n",
    "\n",
    "import threading"
   ]
  },
  {
   "cell_type": "code",
   "execution_count": 18,
   "id": "479c5f89-0532-4a51-9f92-8128c3fdac76",
   "metadata": {},
   "outputs": [],
   "source": [
    "app = Flask(__name__)\n",
    "\n",
    "@app.route('/')\n",
    "def hello_world():\n",
    "    return \"<p> Hello </p>\"\n",
    "\n",
    "@app.route('/privacypolicy')\n",
    "def privacy_policy():\n",
    "    with open('./PrivacyPolicy.html', 'rb') as file:\n",
    "        privacypolicyhtml = file.read()\n",
    "    return privacypolicyhtml\n",
    "\n",
    "@app.route('/webhook', methods = ['GET', 'POST'])\n",
    "def webhook():\n",
    "    if request.method == 'POST':\n",
    "        try:\n",
    "            print(json.dumps(requests.get_json(), index = 4))\n",
    "        except:\n",
    "            pass\n",
    "        return '<p> This is POST Request! </p>'\n",
    "    if request.method == 'GET':\n",
    "        hub_mode = request.args.get('hub.mode')\n",
    "        hub_challenge = request.args.get('hub.challenge')\n",
    "        hub_verify_token = request.args.get('hub.verify_token')\n",
    "        if hub_challenge:\n",
    "            return hub_challenge\n",
    "        else:\n",
    "            return '<p> This is GET Request! </p>'"
   ]
  },
  {
   "cell_type": "code",
   "execution_count": null,
   "id": "5eaf4ee6-b4f2-44bd-9a3b-2bdc3a4f7e9c",
   "metadata": {},
   "outputs": [],
   "source": []
  },
  {
   "cell_type": "code",
   "execution_count": null,
   "id": "b0a81a19-d15a-4ee3-849d-61e7d751c80e",
   "metadata": {},
   "outputs": [],
   "source": []
  },
  {
   "cell_type": "code",
   "execution_count": 23,
   "id": "000ea72a-af37-4596-a93d-8e857bcac4c6",
   "metadata": {},
   "outputs": [
    {
     "name": "stdout",
     "output_type": "stream",
     "text": [
      " * Serving Flask app '__main__'\n",
      " * Debug mode: off\n"
     ]
    },
    {
     "name": "stderr",
     "output_type": "stream",
     "text": [
      "WARNING: This is a development server. Do not use it in a production deployment. Use a production WSGI server instead.\n",
      " * Running on http://127.0.0.1:5001\n",
      "Press CTRL+C to quit\n"
     ]
    }
   ],
   "source": [
    "def run_app():\n",
    "    app.run(port=5001, debug=False, use_reloader=False)\n",
    "\n",
    "# Run Flask app in a separate thread\n",
    "thread = threading.Thread(target=run_app)\n",
    "thread.start()\n"
   ]
  },
  {
   "cell_type": "code",
   "execution_count": null,
   "id": "3b0f9f66-b815-4205-aea0-000f7748aa21",
   "metadata": {},
   "outputs": [],
   "source": []
  },
  {
   "cell_type": "code",
   "execution_count": null,
   "id": "568ec7d7-daec-432a-aad3-a259f81fd758",
   "metadata": {},
   "outputs": [],
   "source": []
  },
  {
   "cell_type": "code",
   "execution_count": null,
   "id": "bce24c02-db88-4d77-986a-42b7f73b1f0e",
   "metadata": {},
   "outputs": [],
   "source": []
  }
 ],
 "metadata": {
  "kernelspec": {
   "display_name": "Python [conda env:base] *",
   "language": "python",
   "name": "conda-base-py"
  },
  "language_info": {
   "codemirror_mode": {
    "name": "ipython",
    "version": 3
   },
   "file_extension": ".py",
   "mimetype": "text/x-python",
   "name": "python",
   "nbconvert_exporter": "python",
   "pygments_lexer": "ipython3",
   "version": "3.12.7"
  }
 },
 "nbformat": 4,
 "nbformat_minor": 5
}
